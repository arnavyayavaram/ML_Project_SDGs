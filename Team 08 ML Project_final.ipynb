{
 "cells": [
  {
   "cell_type": "markdown",
   "id": "29bde288",
   "metadata": {},
   "source": [
    "##**BITS F464 - Semester 1 - MACHINE LEARNING**\n",
    "--------------------------------------------------------------------------------\n",
    "\n",
    "**PROJECT - MACHINE LEARNING FOR SUSTAINABLE DEVELOPMENT GOALS (SDGs)**\n",
    "--------------------------------------------------------------------------------\n",
    "***Team number: 8***\n",
    "\n",
    "---\n",
    "***Full names of all students in the team: Arnav Arvind, Arnav Yayavaram, Shailesh Chandra Rao, Siddharth Yayavaram, Suryansh Chandola***\n",
    "\n",
    "---\n",
    "***Id number of all students in the team: 2021A7PS2709H, 2021A7PS3117H, 2021A7PS2064H, 2021A7PS3116H, 2021A7PS0058H***\n"
   ]
  },
  {
   "cell_type": "code",
   "execution_count": 1,
   "id": "ee9490c2",
   "metadata": {},
   "outputs": [],
   "source": [
    "import pandas as pd\n",
    "import numpy as np\n",
    "import matplotlib.pyplot as plt\n",
    "import seaborn as sns\n",
    "from sklearn.model_selection import train_test_split\n",
    "from sklearn.metrics import classification_report\n",
    "import math\n",
    "import random"
   ]
  },
  {
   "cell_type": "markdown",
   "id": "69992256",
   "metadata": {},
   "source": [
    "# **_1. Preprocessing of Dataset (Project 1)_**"
   ]
  },
  {
   "cell_type": "code",
   "execution_count": 2,
   "id": "6f0be8e8",
   "metadata": {},
   "outputs": [
    {
     "name": "stdout",
     "output_type": "stream",
     "text": [
      "\n",
      " hospital    object\n",
      "age          int64\n",
      "sex          int64\n",
      "cp           int64\n",
      "trestbps    object\n",
      "chol        object\n",
      "fbs         object\n",
      "restecg     object\n",
      "thalach     object\n",
      "exang       object\n",
      "oldpeak     object\n",
      "slope       object\n",
      "ca          object\n",
      "thal        object\n",
      "num          int64\n",
      "dtype: object\n"
     ]
    },
    {
     "data": {
      "text/html": [
       "<div>\n",
       "<style scoped>\n",
       "    .dataframe tbody tr th:only-of-type {\n",
       "        vertical-align: middle;\n",
       "    }\n",
       "\n",
       "    .dataframe tbody tr th {\n",
       "        vertical-align: top;\n",
       "    }\n",
       "\n",
       "    .dataframe thead th {\n",
       "        text-align: right;\n",
       "    }\n",
       "</style>\n",
       "<table border=\"1\" class=\"dataframe\">\n",
       "  <thead>\n",
       "    <tr style=\"text-align: right;\">\n",
       "      <th></th>\n",
       "      <th>hospital</th>\n",
       "      <th>age</th>\n",
       "      <th>sex</th>\n",
       "      <th>cp</th>\n",
       "      <th>trestbps</th>\n",
       "      <th>chol</th>\n",
       "      <th>fbs</th>\n",
       "      <th>restecg</th>\n",
       "      <th>thalach</th>\n",
       "      <th>exang</th>\n",
       "      <th>oldpeak</th>\n",
       "      <th>slope</th>\n",
       "      <th>ca</th>\n",
       "      <th>thal</th>\n",
       "      <th>num</th>\n",
       "    </tr>\n",
       "  </thead>\n",
       "  <tbody>\n",
       "    <tr>\n",
       "      <th>0</th>\n",
       "      <td>Cleveland</td>\n",
       "      <td>67</td>\n",
       "      <td>1</td>\n",
       "      <td>4</td>\n",
       "      <td>160</td>\n",
       "      <td>286</td>\n",
       "      <td>0</td>\n",
       "      <td>2</td>\n",
       "      <td>108</td>\n",
       "      <td>1</td>\n",
       "      <td>1.5</td>\n",
       "      <td>2</td>\n",
       "      <td>3</td>\n",
       "      <td>3</td>\n",
       "      <td>2</td>\n",
       "    </tr>\n",
       "    <tr>\n",
       "      <th>1</th>\n",
       "      <td>Cleveland</td>\n",
       "      <td>67</td>\n",
       "      <td>1</td>\n",
       "      <td>4</td>\n",
       "      <td>120</td>\n",
       "      <td>229</td>\n",
       "      <td>0</td>\n",
       "      <td>2</td>\n",
       "      <td>129</td>\n",
       "      <td>1</td>\n",
       "      <td>2.6</td>\n",
       "      <td>2</td>\n",
       "      <td>2</td>\n",
       "      <td>7</td>\n",
       "      <td>1</td>\n",
       "    </tr>\n",
       "    <tr>\n",
       "      <th>2</th>\n",
       "      <td>Cleveland</td>\n",
       "      <td>37</td>\n",
       "      <td>1</td>\n",
       "      <td>3</td>\n",
       "      <td>130</td>\n",
       "      <td>250</td>\n",
       "      <td>0</td>\n",
       "      <td>0</td>\n",
       "      <td>187</td>\n",
       "      <td>0</td>\n",
       "      <td>3.5</td>\n",
       "      <td>3</td>\n",
       "      <td>0</td>\n",
       "      <td>3</td>\n",
       "      <td>0</td>\n",
       "    </tr>\n",
       "    <tr>\n",
       "      <th>3</th>\n",
       "      <td>Cleveland</td>\n",
       "      <td>41</td>\n",
       "      <td>0</td>\n",
       "      <td>2</td>\n",
       "      <td>130</td>\n",
       "      <td>204</td>\n",
       "      <td>0</td>\n",
       "      <td>2</td>\n",
       "      <td>172</td>\n",
       "      <td>0</td>\n",
       "      <td>1.4</td>\n",
       "      <td>1</td>\n",
       "      <td>0</td>\n",
       "      <td>3</td>\n",
       "      <td>0</td>\n",
       "    </tr>\n",
       "    <tr>\n",
       "      <th>4</th>\n",
       "      <td>Cleveland</td>\n",
       "      <td>56</td>\n",
       "      <td>1</td>\n",
       "      <td>2</td>\n",
       "      <td>120</td>\n",
       "      <td>236</td>\n",
       "      <td>0</td>\n",
       "      <td>0</td>\n",
       "      <td>178</td>\n",
       "      <td>0</td>\n",
       "      <td>0.8</td>\n",
       "      <td>1</td>\n",
       "      <td>0</td>\n",
       "      <td>3</td>\n",
       "      <td>0</td>\n",
       "    </tr>\n",
       "  </tbody>\n",
       "</table>\n",
       "</div>"
      ],
      "text/plain": [
       "    hospital  age  sex  cp trestbps chol fbs restecg thalach exang oldpeak  \\\n",
       "0  Cleveland   67    1   4      160  286   0       2     108     1     1.5   \n",
       "1  Cleveland   67    1   4      120  229   0       2     129     1     2.6   \n",
       "2  Cleveland   37    1   3      130  250   0       0     187     0     3.5   \n",
       "3  Cleveland   41    0   2      130  204   0       2     172     0     1.4   \n",
       "4  Cleveland   56    1   2      120  236   0       0     178     0     0.8   \n",
       "\n",
       "  slope ca thal  num  \n",
       "0     2  3    3    2  \n",
       "1     2  2    7    1  \n",
       "2     3  0    3    0  \n",
       "3     1  0    3    0  \n",
       "4     1  0    3    0  "
      ]
     },
     "execution_count": 2,
     "metadata": {},
     "output_type": "execute_result"
    }
   ],
   "source": [
    "df = pd.read_csv('Heart_Disease.csv')\n",
    "df.replace('?',np.NaN,inplace = True)\n",
    "# print(df.head())    # We observe that there are no column names in the dataframe\n",
    "df.columns = ['hospital','age','sex','cp','trestbps','chol','fbs','restecg','thalach','exang','oldpeak','slope','ca','thal','num']\n",
    "#adding column names for ease in interpreting data. Column names have been referred from the given data description document.\n",
    "datatypes = df.dtypes\n",
    "print(\"\\n\",datatypes)\n",
    "df.head()"
   ]
  },
  {
   "cell_type": "code",
   "execution_count": 3,
   "id": "566b8786",
   "metadata": {},
   "outputs": [
    {
     "data": {
      "text/plain": [
       "(919, 15)"
      ]
     },
     "execution_count": 3,
     "metadata": {},
     "output_type": "execute_result"
    }
   ],
   "source": [
    "rows,columns = df.shape\n",
    "rows,columns\n",
    "# So the dataset contains 919 rows and 15 columns"
   ]
  },
  {
   "cell_type": "code",
   "execution_count": 4,
   "id": "d3811bd1",
   "metadata": {},
   "outputs": [
    {
     "data": {
      "text/plain": [
       "hospital\n",
       "Cleveland      302\n",
       "Hungarian      294\n",
       "VA             200\n",
       "Switzerland    123\n",
       "Name: count, dtype: int64"
      ]
     },
     "execution_count": 4,
     "metadata": {},
     "output_type": "execute_result"
    }
   ],
   "source": [
    "df['hospital'].value_counts()"
   ]
  },
  {
   "cell_type": "code",
   "execution_count": 5,
   "id": "e4cd31b4",
   "metadata": {},
   "outputs": [],
   "source": [
    "def hospital_num(x):\n",
    "    if x == 'Cleveland':\n",
    "        return 0\n",
    "    elif x == 'Hungarian':\n",
    "        return 1\n",
    "    elif x == 'VA':\n",
    "        return 2\n",
    "    else:\n",
    "        return 3 \n",
    "df['hospital'] = df['hospital'].apply(hospital_num)"
   ]
  },
  {
   "cell_type": "code",
   "execution_count": 6,
   "id": "5a44aaf2",
   "metadata": {},
   "outputs": [
    {
     "data": {
      "text/plain": [
       "<Axes: xlabel='num', ylabel='Count'>"
      ]
     },
     "execution_count": 6,
     "metadata": {},
     "output_type": "execute_result"
    },
    {
     "data": {
      "image/png": "[encoded data removed]",
      "text/plain": [
       "<Figure size 640x480 with 1 Axes>"
      ]
     },
     "metadata": {},
     "output_type": "display_data"
    }
   ],
   "source": [
    "# df['num'].value_counts()\n",
    "sns.histplot(df['num'])\n",
    "# We observe that the target column has more than just 0 and 1 values unlike the given feature description."
   ]
  },
  {
   "cell_type": "code",
   "execution_count": 7,
   "id": "6a574df6",
   "metadata": {
    "scrolled": false
   },
   "outputs": [
    {
     "data": {
      "text/plain": [
       "<Axes: xlabel='num', ylabel='Count'>"
      ]
     },
     "execution_count": 7,
     "metadata": {},
     "output_type": "execute_result"
    },
    {
     "data": {
      "image/png": "[encoded data removed]",
      "text/plain": [
       "<Figure size 640x480 with 1 Axes>"
      ]
     },
     "metadata": {},
     "output_type": "display_data"
    }
   ],
   "source": [
    "def non_zero_to_one(x):\n",
    "    if x != 0:\n",
    "        return 1\n",
    "    else:\n",
    "        return 0\n",
    "df['num'] = df['num'].apply(non_zero_to_one)\n",
    "# thus we convert all non zero values to 1 \n",
    "sns.histplot(df['num'])\n",
    "# We observe that after the modification the number of 0s and 1s are not equal."
   ]
  },
  {
   "cell_type": "markdown",
   "id": "6a247de4",
   "metadata": {},
   "source": [
    "**We observe that in columns: trestbps, fbs, restecg, thalach, exang, oldpeak, slope, ca and thal have NaN values in them**   "
   ]
  },
  {
   "cell_type": "code",
   "execution_count": 8,
   "id": "ba8800f0",
   "metadata": {},
   "outputs": [
    {
     "name": "stdout",
     "output_type": "stream",
     "text": [
      "Column hospital unique values: \n",
      "[0 1 3 2]\n",
      "\n",
      "Column age unique values: \n",
      "[67 37 41 56 62 57 63 53 44 52 48 54 49 64 58 60 50 66 43 40 69 59 42 55\n",
      " 61 65 71 51 46 45 39 68 47 34 35 29 70 77 38 74 76 28 30 31 32 33 36 72\n",
      " 73 75]\n",
      "\n",
      "Column sex unique values: \n",
      "[1 0]\n",
      "\n",
      "Column cp unique values: \n",
      "[4 3 2 1]\n",
      "\n",
      "Column trestbps unique values: \n",
      "['160' '120' '130' '140' '172' '150' '110' '132' '117' '135' '112' '105'\n",
      " '124' '125' '142' '128' '145' '170' '155' '104' '180' '138' '108' '134'\n",
      " '122' '115' '118' '100' '200' '94' '165' '102' '152' '101' '126' '174'\n",
      " '148' '178' '158' '192' '129' '144' '123' '136' '146' '106' '156' '154'\n",
      " '114' '164' '98' '190' nan '113' '92' '95' '80' '185' '116' '0' '96'\n",
      " '127']\n",
      "\n",
      "Column chol unique values: \n",
      "['286' '229' '250' '204' '236' '268' '354' '254' '203' '192' '294' '256'\n",
      " '263' '199' '168' '239' '275' '266' '211' '283' '284' '224' '206' '219'\n",
      " '340' '226' '247' '167' '230' '335' '234' '233' '177' '276' '353' '243'\n",
      " '225' '302' '212' '330' '175' '417' '197' '198' '290' '253' '172' '273'\n",
      " '213' '305' '216' '304' '188' '282' '185' '232' '326' '231' '269' '267'\n",
      " '248' '360' '258' '308' '245' '270' '208' '264' '321' '274' '325' '235'\n",
      " '257' '164' '141' '252' '255' '201' '222' '260' '182' '303' '265' '309'\n",
      " '307' '249' '186' '341' '183' '407' '217' '288' '220' '209' '227' '261'\n",
      " '174' '281' '221' '205' '240' '289' '318' '298' '564' '246' '322' '299'\n",
      " '300' '293' '277' '214' '207' '223' '160' '394' '184' '315' '409' '244'\n",
      " '195' '196' '126' '313' '259' '200' '262' '215' '228' '193' '271' '210'\n",
      " '327' '149' '295' '306' '178' '237' '218' '242' '319' '166' '180' '311'\n",
      " '278' '342' '169' '187' '157' '176' '241' '131' '132' nan '161' '173'\n",
      " '194' '297' '292' '339' '147' '291' '358' '412' '238' '163' '280' '202'\n",
      " '328' '129' '190' '179' '272' '100' '468' '320' '312' '171' '365' '344'\n",
      " '85' '347' '251' '287' '156' '117' '466' '338' '529' '392' '329' '355'\n",
      " '603' '404' '518' '285' '279' '388' '336' '491' '331' '393' '0' '153'\n",
      " '316' '458' '384' '349' '142' '181' '310' '170' '369' '165' '337' '333'\n",
      " '139' '385']\n",
      "\n",
      "Column fbs unique values: \n",
      "['0' '1' nan]\n",
      "\n",
      "Column restecg unique values: \n",
      "['2' '0' '1' nan]\n",
      "\n",
      "Column thalach unique values: \n",
      "['108' '129' '187' '172' '178' '160' '163' '147' '155' '148' '153' '142'\n",
      " '173' '162' '174' '168' '139' '171' '144' '132' '158' '114' '151' '161'\n",
      " '179' '120' '112' '137' '157' '169' '165' '123' '128' '152' '140' '188'\n",
      " '109' '125' '131' '170' '113' '99' '177' '141' '180' '111' '143' '182'\n",
      " '150' '156' '115' '149' '145' '146' '175' '186' '185' '159' '130' '190'\n",
      " '136' '97' '127' '154' '133' '126' '202' '103' '166' '164' '184' '124'\n",
      " '122' '96' '138' '88' '105' '194' '195' '106' '167' '95' '192' '117'\n",
      " '121' '116' '71' '118' '181' '134' '90' '98' '176' '135' '110' nan '100'\n",
      " '87' '102' '92' '91' '82' '119' '94' '104' '60' '83' '63' '70' '77' '72'\n",
      " '78' '86' '93' '67' '84' '80' '107' '69' '73']\n",
      "\n",
      "Column exang unique values: \n",
      "['1' '0' nan]\n",
      "\n",
      "Column oldpeak unique values: \n",
      "['1.5' '2.6' '3.5' '1.4' '0.8' '3.6' '0.6' '3.1' '0.4' '1.3' '0' '0.5'\n",
      " '1.6' '1' '1.2' '0.2' '1.8' '3.2' '2.4' '2' '2.5' '2.2' '2.8' '3' '3.4'\n",
      " '6.2' '4' '5.6' '2.9' '0.1' '2.1' '1.9' '4.2' '0.9' '1.1' '3.8' '0.7'\n",
      " '0.3' '2.3' '4.4' '5' nan '-1.1' '-1.5' '-0.1' '-2.6' '-0.7' '-2' '-1'\n",
      " '1.7' '-0.8' '-0.5' '-0.9' '3.7']\n",
      "\n",
      "Column slope unique values: \n",
      "['2' '3' '1' nan]\n",
      "\n",
      "Column ca unique values: \n",
      "['3' '2' '0' '1' nan]\n",
      "\n",
      "Column thal unique values: \n",
      "['3' '7' '6' nan]\n",
      "\n",
      "Column num unique values: \n",
      "[1 0]\n",
      "\n"
     ]
    },
    {
     "data": {
      "text/plain": [
       "['trestbps',\n",
       " 'chol',\n",
       " 'fbs',\n",
       " 'restecg',\n",
       " 'thalach',\n",
       " 'exang',\n",
       " 'oldpeak',\n",
       " 'slope',\n",
       " 'ca',\n",
       " 'thal']"
      ]
     },
     "execution_count": 8,
     "metadata": {},
     "output_type": "execute_result"
    }
   ],
   "source": [
    "nan_columns = []\n",
    "for column in df.columns:\n",
    "    print(f\"Column {column} unique values: \\n{df[column].unique()}\\n\")\n",
    "    if df[column].isnull().values.any():\n",
    "        nan_columns.append(column)\n",
    "nan_columns"
   ]
  },
  {
   "cell_type": "markdown",
   "id": "4b4095df",
   "metadata": {},
   "source": [
    "**Now we check the number of NaN values in these columns to decide what should be done with the rows containing '?'**"
   ]
  },
  {
   "cell_type": "code",
   "execution_count": 9,
   "id": "6dd92af3",
   "metadata": {},
   "outputs": [
    {
     "data": {
      "text/plain": [
       "trestbps    860\n",
       "chol        889\n",
       "fbs         829\n",
       "restecg     917\n",
       "thalach     864\n",
       "exang       864\n",
       "oldpeak     857\n",
       "slope       610\n",
       "ca          308\n",
       "thal        433\n",
       "dtype: int64"
      ]
     },
     "execution_count": 9,
     "metadata": {},
     "output_type": "execute_result"
    }
   ],
   "source": [
    "df[nan_columns].count()"
   ]
  },
  {
   "cell_type": "markdown",
   "id": "a8f74c0f",
   "metadata": {},
   "source": [
    "| Column | # of NaN values | Strategy |\n",
    "|:------ | :-------------- | :------- |\n",
    "| trestbps   |  59 | Replace with mean |\n",
    "| chol       |  30 | Replace with mean |\n",
    "| fbs        |  90 | Replace with mode |\n",
    "| restecg    |   2 | Drop              |\n",
    "| thalach    |  55 | Replace with mean |\n",
    "| exang      |  55 | Replace with mode |\n",
    "| oldpeak    |  62 | Replace with mean |\n",
    "| slope      | 309 | Replace with mode |\n",
    "| ca         | 611 | Replace with mode | \n",
    "| thal       | 486 | Replace with mode |"
   ]
  },
  {
   "cell_type": "code",
   "execution_count": 10,
   "id": "7160389b",
   "metadata": {},
   "outputs": [],
   "source": [
    "mean = ['trestbps', 'chol', 'thalach', 'oldpeak']\n",
    "mode = ['fbs', 'exang', 'slope', 'ca', 'thal']\n",
    "def convert_to_float(x):\n",
    "    if x!= x:\n",
    "        return x\n",
    "    return float(x)\n",
    "df.drop(df[df['restecg'].isna()].index,inplace = True)\n",
    "df['restecg'] = df['restecg'].apply(convert_to_float)"
   ]
  },
  {
   "cell_type": "code",
   "execution_count": 11,
   "id": "02f8a291",
   "metadata": {},
   "outputs": [
    {
     "data": {
      "text/plain": [
       "917"
      ]
     },
     "execution_count": 11,
     "metadata": {},
     "output_type": "execute_result"
    }
   ],
   "source": [
    "df['fbs'] = df['fbs'].apply(convert_to_float)\n",
    "df['fbs'] = df['fbs'].fillna(0)\n",
    "df['fbs'].count()"
   ]
  },
  {
   "cell_type": "code",
   "execution_count": 12,
   "id": "d9e26395",
   "metadata": {
    "scrolled": true
   },
   "outputs": [
    {
     "data": {
      "text/plain": [
       "fbs\n",
       "0.0    780\n",
       "1.0    137\n",
       "Name: count, dtype: int64"
      ]
     },
     "execution_count": 12,
     "metadata": {},
     "output_type": "execute_result"
    }
   ],
   "source": [
    "# df['fbs'] = df['fbs'].apply(convert_to_float)\n",
    "df['fbs'].value_counts()"
   ]
  },
  {
   "cell_type": "code",
   "execution_count": 13,
   "id": "2ebdddc7",
   "metadata": {},
   "outputs": [],
   "source": [
    "def fill_na_with_mean(x):\n",
    "    y = x.apply(convert_to_float)\n",
    "    return y.fillna(y.mean())\n",
    "def fill_na_with_mode(x):\n",
    "    y = x.apply(convert_to_float)\n",
    "    return y.fillna(y.mode()[0])"
   ]
  },
  {
   "cell_type": "code",
   "execution_count": 14,
   "id": "0f38a7a0",
   "metadata": {},
   "outputs": [
    {
     "name": "stdout",
     "output_type": "stream",
     "text": [
      "858\n",
      "917\n"
     ]
    },
    {
     "data": {
      "image/png": "[encoded data removed]",
      "text/plain": [
       "<Figure size 640x480 with 1 Axes>"
      ]
     },
     "metadata": {},
     "output_type": "display_data"
    },
    {
     "name": "stdout",
     "output_type": "stream",
     "text": [
      "887\n",
      "917\n"
     ]
    },
    {
     "data": {
      "image/png": "[encoded data removed]",
      "text/plain": [
       "<Figure size 640x480 with 1 Axes>"
      ]
     },
     "metadata": {},
     "output_type": "display_data"
    },
    {
     "name": "stdout",
     "output_type": "stream",
     "text": [
      "862\n",
      "917\n"
     ]
    },
    {
     "data": {
      "image/png": "[encoded data removed]",
      "text/plain": [
       "<Figure size 640x480 with 1 Axes>"
      ]
     },
     "metadata": {},
     "output_type": "display_data"
    },
    {
     "name": "stdout",
     "output_type": "stream",
     "text": [
      "855\n",
      "917\n"
     ]
    },
    {
     "data": {
      "image/png": "[encoded data removed]",
      "text/plain": [
       "<Figure size 640x480 with 1 Axes>"
      ]
     },
     "metadata": {},
     "output_type": "display_data"
    }
   ],
   "source": [
    "for column in mean:\n",
    "    print(df[column].count())\n",
    "    df[column] = fill_na_with_mean(df[column])\n",
    "    print(df[column].count())\n",
    "    sns.histplot(df[column])\n",
    "    plt.show()"
   ]
  },
  {
   "cell_type": "code",
   "execution_count": 15,
   "id": "1bd7b57d",
   "metadata": {},
   "outputs": [
    {
     "name": "stdout",
     "output_type": "stream",
     "text": [
      "917\n",
      "917\n"
     ]
    },
    {
     "data": {
      "image/png": "[encoded data removed]",
      "text/plain": [
       "<Figure size 640x480 with 1 Axes>"
      ]
     },
     "metadata": {},
     "output_type": "display_data"
    },
    {
     "name": "stdout",
     "output_type": "stream",
     "text": [
      "862\n",
      "917\n"
     ]
    },
    {
     "data": {
      "image/png": "[encoded data removed]",
      "text/plain": [
       "<Figure size 640x480 with 1 Axes>"
      ]
     },
     "metadata": {},
     "output_type": "display_data"
    },
    {
     "name": "stdout",
     "output_type": "stream",
     "text": [
      "609\n",
      "917\n"
     ]
    },
    {
     "data": {
      "image/png": "[encoded data removed]",
      "text/plain": [
       "<Figure size 640x480 with 1 Axes>"
      ]
     },
     "metadata": {},
     "output_type": "display_data"
    },
    {
     "name": "stdout",
     "output_type": "stream",
     "text": [
      "308\n",
      "917\n"
     ]
    },
    {
     "data": {
      "image/png": "[encoded data removed]",
      "text/plain": [
       "<Figure size 640x480 with 1 Axes>"
      ]
     },
     "metadata": {},
     "output_type": "display_data"
    },
    {
     "name": "stdout",
     "output_type": "stream",
     "text": [
      "433\n",
      "917\n"
     ]
    },
    {
     "data": {
      "image/png": "[encoded data removed]",
      "text/plain": [
       "<Figure size 640x480 with 1 Axes>"
      ]
     },
     "metadata": {},
     "output_type": "display_data"
    }
   ],
   "source": [
    "for column in mode:\n",
    "    print(df[column].count())\n",
    "    df[column] = fill_na_with_mode(df[column])\n",
    "    print(df[column].count())\n",
    "    sns.histplot(df[column])\n",
    "    plt.show()"
   ]
  },
  {
   "cell_type": "code",
   "execution_count": 16,
   "id": "d4652a3e",
   "metadata": {},
   "outputs": [
    {
     "data": {
      "text/plain": [
       "hospital      int64\n",
       "age           int64\n",
       "sex           int64\n",
       "cp            int64\n",
       "trestbps    float64\n",
       "chol        float64\n",
       "fbs         float64\n",
       "restecg     float64\n",
       "thalach     float64\n",
       "exang       float64\n",
       "oldpeak     float64\n",
       "slope       float64\n",
       "ca          float64\n",
       "thal        float64\n",
       "num           int64\n",
       "dtype: object"
      ]
     },
     "execution_count": 16,
     "metadata": {},
     "output_type": "execute_result"
    }
   ],
   "source": [
    "df.dtypes"
   ]
  },
  {
   "cell_type": "code",
   "execution_count": 17,
   "id": "f8c1101c",
   "metadata": {},
   "outputs": [
    {
     "data": {
      "text/plain": [
       "(614, 14)"
      ]
     },
     "execution_count": 17,
     "metadata": {},
     "output_type": "execute_result"
    }
   ],
   "source": [
    "X = df.drop('num',axis=1)\n",
    "y = df['num']\n",
    "X_train, X_test, y_train, y_test = train_test_split(X, y, test_size=0.33, random_state=42)\n",
    "X_train = np.array(X_train)\n",
    "X_test = np.array(X_test)\n",
    "y_train = np.array(y_train)\n",
    "y_test = np.array(y_test)\n",
    "X_train.shape"
   ]
  },
  {
   "cell_type": "markdown",
   "id": "97f418ed",
   "metadata": {},
   "source": [
    "# ***2. ML Model 1***\n",
    "### ***Model Chosen: K Nearest Neighbours***\n",
    "_Accuracy Achieved: 81%_"
   ]
  },
  {
   "cell_type": "markdown",
   "id": "a04f8765",
   "metadata": {},
   "source": [
    "<h2>2.0. Feature Scaling</h2>"
   ]
  },
  {
   "cell_type": "code",
   "execution_count": 18,
   "id": "1494aded",
   "metadata": {},
   "outputs": [],
   "source": [
    "#Feature Scaling\n",
    "class StandardScaler:\n",
    "    def __init__(self):\n",
    "        self.mean_ = None\n",
    "        self.std_ = None\n",
    "\n",
    "    def fit(self, X):\n",
    "        self.mean_ = np.mean(X, axis=0)\n",
    "        self.std_ = np.std(X, axis=0)\n",
    "        return self\n",
    "\n",
    "    def transform(self, X):\n",
    "        if self.mean_ is None or self.std_ is None:\n",
    "            raise ValueError(\"Scaler not fitted. Call fit() before transforming.\")\n",
    "        return (X - self.mean_) / self.std_\n",
    "\n",
    "    def fit_transform(self, X):\n",
    "        self.fit(X)\n",
    "        return self.transform(X)"
   ]
  },
  {
   "cell_type": "code",
   "execution_count": 19,
   "metadata": {},
   "outputs": [],
   "source": [
    "scaler = StandardScaler()\n",
    "X_train_scaled = scaler.fit_transform(X_train)\n",
    "X_test_scaled = scaler.transform(X_test)"
   ]
  },
  {
   "cell_type": "markdown",
   "id": "a94296bb",
   "metadata": {},
   "source": [
    "<h2>2.1. Using Euclidean Distance</h2>"
   ]
  },
  {
   "cell_type": "code",
   "execution_count": 20,
   "id": "7d7ffd0d",
   "metadata": {},
   "outputs": [],
   "source": [
    "class KNNClassifier:\n",
    "    def __init__(self, k=3):\n",
    "        self.k = k\n",
    "        self.classified_points = {}\n",
    "\n",
    "    def classify(self, training_points, class_labels):\n",
    "        self.classified_points = {0: [], 1: []}\n",
    "        for training_point, class_label in zip(training_points, class_labels):\n",
    "            self.classified_points[class_label].append(np.array(training_point))\n",
    "\n",
    "    def knn(self, test_point):\n",
    "        distances = []\n",
    "        for class_label, training_points in self.classified_points.items():\n",
    "            training_points = np.array(training_points)\n",
    "            squared_diff = (training_points - np.array(test_point))**2\n",
    "            euclidean_distances = np.sqrt(np.sum(squared_diff, axis=1))\n",
    "            distances.extend(zip(euclidean_distances, [class_label]*len(training_points)))\n",
    "        distances.sort(key=lambda x: x[0])\n",
    "        neighbors = distances[:self.k]\n",
    "        return neighbors\n",
    "\n",
    "    def predict(self, X_test):\n",
    "        predicted_classes = []\n",
    "        for test_point in X_test:\n",
    "            neighbors = self.knn(test_point)\n",
    "            predicted_class = sum(class_label for _, class_label in neighbors)\n",
    "            predicted_classes.append(1 if predicted_class > 0 else 0)\n",
    "        return np.array(predicted_classes)"
   ]
  },
  {
   "cell_type": "code",
   "execution_count": 44,
   "id": "b818a9e9",
   "metadata": {},
   "outputs": [
    {
     "name": "stdout",
     "output_type": "stream",
     "text": [
      "              precision    recall  f1-score   support\n",
      "\n",
      "           0       0.88      0.66      0.75       134\n",
      "           1       0.77      0.93      0.84       169\n",
      "\n",
      "    accuracy                           0.81       303\n",
      "   macro avg       0.83      0.79      0.80       303\n",
      "weighted avg       0.82      0.81      0.80       303\n",
      "\n"
     ]
    }
   ],
   "source": [
    "knn_classifier = KNNClassifier(k=3)\n",
    "knn_classifier.classify(X_train_scaled, y_train)\n",
    "predictions = knn_classifier.predict(X_test_scaled)\n",
    "print(classification_report(y_test, predictions))"
   ]
  },
  {
   "cell_type": "markdown",
   "id": "0e37e19c",
   "metadata": {},
   "source": [
    "<h2>2.2. Using Manhattan Distance</h2>"
   ]
  },
  {
   "cell_type": "code",
   "execution_count": 22,
   "id": "7a0bd1ad",
   "metadata": {},
   "outputs": [],
   "source": [
    "class KNNClassifier:\n",
    "    def __init__(self, k=3):\n",
    "        self.k = k\n",
    "        self.classified_points = {}\n",
    "\n",
    "    def classify(self, training_points, class_labels):\n",
    "        self.classified_points = {0: [], 1: []}\n",
    "        for training_point, class_label in zip(training_points, class_labels):\n",
    "            self.classified_points[class_label].append(np.array(training_point))\n",
    "\n",
    "    def knn(self, test_point):\n",
    "        distances = []\n",
    "        for class_label, training_points in self.classified_points.items():\n",
    "            training_points = np.array(training_points)\n",
    "            abs_diff = np.abs(training_points - np.array(test_point))\n",
    "            manhattan_distances = np.sum(abs_diff, axis=1)\n",
    "            distances.extend(zip(manhattan_distances, [class_label]*len(training_points)))\n",
    "        distances.sort(key=lambda x: x[0])\n",
    "        neighbors = distances[:self.k]\n",
    "        return neighbors\n",
    "\n",
    "    def predict(self, X_test):\n",
    "        predicted_classes = []\n",
    "        for test_point in X_test:\n",
    "            neighbors = self.knn(test_point)\n",
    "            predicted_class = sum(class_label for _, class_label in neighbors)\n",
    "            predicted_classes.append(1 if predicted_class > 0 else 0)\n",
    "        return np.array(predicted_classes)\n"
   ]
  },
  {
   "cell_type": "code",
   "execution_count": 45,
   "id": "516f44b2",
   "metadata": {},
   "outputs": [
    {
     "name": "stdout",
     "output_type": "stream",
     "text": [
      "              precision    recall  f1-score   support\n",
      "\n",
      "           0       0.88      0.66      0.75       134\n",
      "           1       0.77      0.93      0.84       169\n",
      "\n",
      "    accuracy                           0.81       303\n",
      "   macro avg       0.83      0.79      0.80       303\n",
      "weighted avg       0.82      0.81      0.80       303\n",
      "\n"
     ]
    }
   ],
   "source": [
    "knn_classifier = KNNClassifier(k=3)\n",
    "knn_classifier.classify(X_train_scaled, y_train)\n",
    "predictions = knn_classifier.predict(X_test_scaled)\n",
    "print(classification_report(y_test, predictions))"
   ]
  },
  {
   "cell_type": "markdown",
   "id": "161f7497",
   "metadata": {},
   "source": [
    "# ***3. ML Model 2***\n",
    "### ***Model Chosen: Random Forest***\n",
    "_Accuracy Achieved: 82%_"
   ]
  },
  {
   "cell_type": "code",
   "execution_count": 24,
   "id": "a9189d15",
   "metadata": {},
   "outputs": [],
   "source": [
    "# class for the node of the decision tree\n",
    "class Node:\n",
    "    def __init__(self, feature=None, impurity=None, thresh=None, left_node=None, right_node=None, value=None, isLeaf=False):\n",
    "        #feature based on which the node splits the data\n",
    "        self.feature = feature\n",
    "\n",
    "        # gini impurity of the node\n",
    "        self.impurity = impurity\n",
    "\n",
    "        # threshold of self.value to decide splits\n",
    "        self.thresh = thresh\n",
    "\n",
    "        self.left_node = left_node\n",
    "        self.right_node = right_node\n",
    "\n",
    "        # value or final label predicted if the node is a leaf node\n",
    "        self.value = value\n",
    "\n",
    "        # whether node is a leaf\n",
    "        self.isLeaf = isLeaf\n",
    "\n",
    "# class for decision tree\n",
    "class DecisionTree:\n",
    "    def __init__(self, max_depth=3, min_rows_split=3):\n",
    "        # minimum number of rows required for the data to be split\n",
    "        self.min_rows_split = min_rows_split\n",
    "\n",
    "        # maximum depth of the tree\n",
    "        self.max_depth = max_depth\n",
    "\n",
    "        # root node of the tree\n",
    "        self.root = None\n",
    "    \n",
    "    def fit(self, X, y):\n",
    "        '''\n",
    "        fits the tree with given training data\n",
    "        '''\n",
    "        df = pd.concat([X, y], axis = 1)\n",
    "        self.root = self.make_tree(0, df)\n",
    "    \n",
    "    def make_tree(self, depth, df):\n",
    "        '''\n",
    "        recursively builds the decision tree\n",
    "        '''\n",
    "        rows = len(df.iloc[:,:-1])\n",
    "        features = list(df.iloc[:,:-1].columns)\n",
    "\n",
    "        # condition to split the current node\n",
    "        if self.max_depth > depth and rows > self.min_rows_split:\n",
    "            best_split = self.optimal_feature(df)\n",
    "\n",
    "            # if the node is still impure, it is split\n",
    "            if best_split['gini'] > 0:\n",
    "                l_tree = self.make_tree(depth+1, best_split['left_split'])\n",
    "                r_tree = self.make_tree(depth+1, best_split['right_split'])\n",
    "                return Node(best_split['feat'], best_split['gini'], best_split['thresh'], l_tree, r_tree)\n",
    "        print('df:\\n', df,'\\n')\n",
    "\n",
    "        # final label the node predicts, i.e if it is a leaf\n",
    "        final_value = self.final_label(df.iloc[:,-1])\n",
    "        return Node(value=final_value, isLeaf=True)\n",
    "\n",
    "    def optimal_feature(self, df):\n",
    "        '''\n",
    "        finds the optimal split (with minimum gini impurity)\n",
    "        '''\n",
    "        X = df.iloc[:,:-1]\n",
    "        y = df.iloc[:,-1]\n",
    "        features = list(X.columns)\n",
    "        min_gini = float(\"inf\")\n",
    "\n",
    "        # iterating through features\n",
    "        for feature in features:\n",
    "            values = df[feature].unique()\n",
    "\n",
    "            # iterating through all possible thresholds\n",
    "            for val in values:\n",
    "                l_condition = df[feature] <= val\n",
    "                r_condition = df[feature] > val\n",
    "                l_df = df[l_condition]\n",
    "                r_df = df[r_condition]\n",
    "\n",
    "                # finds weighted impurity of current node based on possible child nodes\n",
    "                gini = self.weighted_gini_impurity(l_df, r_df)\n",
    "\n",
    "                # if it is lower than current gini impurity, update the best split values\n",
    "                if gini < min_gini:\n",
    "                    min_gini = gini\n",
    "                    result = {\n",
    "                        'feat': feature,\n",
    "                        'thresh': val,\n",
    "                        'left_split': l_df,\n",
    "                        'right_split': r_df,\n",
    "                        'gini': gini\n",
    "                    }\n",
    "        return result\n",
    "\n",
    "    def weighted_gini_impurity(self, l, r):\n",
    "        ''' \n",
    "        finds weighted impurity of current node based on possible child nodes\n",
    "        '''\n",
    "        weight_r = len(r)/(len(l)+len(r))\n",
    "        weight_l = 1 - weight_r\n",
    "        return (weight_r*(self.gini_impurity(r)) + weight_l*(self.gini_impurity(l)))\n",
    "\n",
    "    def gini_impurity(self, subset):\n",
    "        ''' \n",
    "        calculates gini impurity based on formula (1 - summation((probability of labels) ^ 2))\n",
    "        '''\n",
    "        target  = subset.iloc[:,-1]\n",
    "        sub_label_distr = dict(target.value_counts())\n",
    "        total = len(target)\n",
    "        sum_squares = 0\n",
    "        for label in sub_label_distr.keys():\n",
    "            sum_squares += (sub_label_distr[label]/total)**2\n",
    "        impurity = 1 - sum_squares\n",
    "        return impurity\n",
    "    \n",
    "    def final_label(self, col):\n",
    "        ''' \n",
    "        finds final label which leaf node predicts\n",
    "        '''\n",
    "        return (dict(map(reversed, dict(col.value_counts()).items()))[max(dict(col.value_counts()).values())])\n",
    "\n",
    "    def predict_sub(self, input, tree):\n",
    "        ''' \n",
    "        predicts label for a single test sample\n",
    "        '''\n",
    "        #if leaf node, return value contained\n",
    "        if tree.isLeaf:\n",
    "            return tree.value\n",
    "\n",
    "        # if not a leaf node, traverses down the tree based on thresholds and features (recursively)\n",
    "        else:\n",
    "            limit = tree.thresh\n",
    "            feat = tree.feature\n",
    "            if input[feat]<=limit:\n",
    "                return self.predict_sub(input, tree.left_node)\n",
    "            else:\n",
    "                return self.predict_sub(input, tree.right_node)\n",
    "    \n",
    "    def predict(self, inputs):\n",
    "        ''' \n",
    "        predicts values for a set of test data\n",
    "        '''\n",
    "        preds = []\n",
    "        for i in range(len(inputs)):\n",
    "            preds.append(self.predict_sub(inputs.iloc[i], self.root))\n",
    "        return preds\n"
   ]
  },
  {
   "cell_type": "code",
   "execution_count": 25,
   "id": "2af19aea",
   "metadata": {},
   "outputs": [],
   "source": [
    "# class for decision tree\n",
    "class DecisionTree:\n",
    "    def __init__(self, max_depth=3, min_rows_split=3):\n",
    "        # minimum number of rows required for the data to be split\n",
    "        self.min_rows_split = min_rows_split\n",
    "\n",
    "        # maximum depth of the tree\n",
    "        self.max_depth = max_depth\n",
    "\n",
    "        # root node of the tree\n",
    "        self.root = None\n",
    "    \n",
    "    def fit(self, X, y):\n",
    "        '''\n",
    "        fits the tree with given training data\n",
    "        '''\n",
    "        df = pd.concat([X, y], axis = 1)\n",
    "        self.root = self.make_tree(0, df)\n",
    "    \n",
    "    def make_tree(self, depth, df):\n",
    "        '''\n",
    "        recursively builds the decision tree\n",
    "        '''\n",
    "        rows = len(df.iloc[:,:-1])\n",
    "        features = list(df.iloc[:,:-1].columns)\n",
    "\n",
    "        # condition to split the current node\n",
    "        if self.max_depth > depth and rows > self.min_rows_split:\n",
    "            best_split = self.optimal_feature(df)\n",
    "\n",
    "            # if the node is still impure, it is split\n",
    "            if best_split['gini'] > 0:\n",
    "                l_tree = self.make_tree(depth+1, best_split['left_split'])\n",
    "                r_tree = self.make_tree(depth+1, best_split['right_split'])\n",
    "                return Node(best_split['feat'], best_split['gini'], best_split['thresh'], l_tree, r_tree)\n",
    "\n",
    "        # final label the node predicts, i.e if it is a leaf\n",
    "        final_value = self.final_label(df.iloc[:,-1])\n",
    "        return Node(value=final_value, isLeaf=True)\n",
    "\n",
    "    def optimal_feature(self, df):\n",
    "        '''\n",
    "        finds the optimal split (with minimum gini impurity)\n",
    "        '''\n",
    "        X = df.iloc[:,:-1]\n",
    "        y = df.iloc[:,-1]\n",
    "        features = list(X.columns)\n",
    "        min_gini = float(\"inf\")\n",
    "\n",
    "        # iterating through features\n",
    "        for feature in features:\n",
    "            values = df[feature].unique()\n",
    "\n",
    "            # iterating through all possible thresholds\n",
    "            for val in values:\n",
    "                l_condition = df[feature] <= val\n",
    "                r_condition = df[feature] > val\n",
    "                l_df = df[l_condition]\n",
    "                r_df = df[r_condition]\n",
    "\n",
    "                # finds weighted impurity of current node based on possible child nodes\n",
    "                gini = self.weighted_gini_impurity(l_df, r_df)\n",
    "\n",
    "                # if it is lower than current gini impurity, update the best split values\n",
    "                if gini < min_gini:\n",
    "                    min_gini = gini\n",
    "                    result = {\n",
    "                        'feat': feature,\n",
    "                        'thresh': val,\n",
    "                        'left_split': l_df,\n",
    "                        'right_split': r_df,\n",
    "                        'gini': gini\n",
    "                    }\n",
    "        return result\n",
    "\n",
    "    def weighted_gini_impurity(self, l, r):\n",
    "        ''' \n",
    "        finds weighted impurity of current node based on possible child nodes\n",
    "        '''\n",
    "        weight_r = len(r)/(len(l)+len(r))\n",
    "        weight_l = 1 - weight_r\n",
    "        return (weight_r*(self.gini_impurity(r)) + weight_l*(self.gini_impurity(l)))\n",
    "\n",
    "    def gini_impurity(self, subset):\n",
    "        ''' \n",
    "        calculates gini impurity based on formula (1 - summation((probability of labels) ^ 2))\n",
    "        '''\n",
    "        target  = subset.iloc[:,-1]\n",
    "        sub_label_distr = dict(target.value_counts())\n",
    "        total = len(target)\n",
    "        sum_squares = 0\n",
    "        for label in sub_label_distr.keys():\n",
    "            sum_squares += (sub_label_distr[label]/total)**2\n",
    "        impurity = 1 - sum_squares\n",
    "        return impurity\n",
    "    \n",
    "    def final_label(self, col):\n",
    "        ''' \n",
    "        finds final label which leaf node predicts\n",
    "        '''\n",
    "        return (dict(map(reversed, dict(col.value_counts()).items()))[max(dict(col.value_counts()).values())])\n",
    "\n",
    "    def predict_sub(self, input, tree):\n",
    "        ''' \n",
    "        predicts label for a single test sample\n",
    "        '''\n",
    "        #if leaf node, return value contained\n",
    "        if tree.isLeaf:\n",
    "            return tree.value\n",
    "\n",
    "        # if not a leaf node, traverses down the tree based on thresholds and features (recursively)\n",
    "        else:\n",
    "            limit = tree.thresh\n",
    "            feat = tree.feature\n",
    "            if input[feat]<=limit:\n",
    "                return self.predict_sub(input, tree.left_node)\n",
    "            else:\n",
    "                return self.predict_sub(input, tree.right_node)\n",
    "    \n",
    "    def predict(self, inputs):\n",
    "        ''' \n",
    "        predicts values for a set of test data\n",
    "        '''\n",
    "        preds = []\n",
    "        for i in range(len(inputs)):\n",
    "            preds.append(self.predict_sub(inputs.iloc[i], self.root))\n",
    "        return preds"
   ]
  },
  {
   "cell_type": "code",
   "execution_count": 26,
   "id": "87f76c21",
   "metadata": {},
   "outputs": [],
   "source": [
    "# class for random forest classifier\n",
    "class RandomForest:\n",
    "    def __init__(self, n_estimators):\n",
    "\n",
    "        # number of decision trees in the forest\n",
    "        self.n_estimators = n_estimators\n",
    "\n",
    "        # array of decision trees\n",
    "        self.forest = None\n",
    "\n",
    "        # set of possible labels\n",
    "        self.prediction_labels = None\n",
    "\n",
    "    def create_forest(self, df):\n",
    "        '''\n",
    "        creates multiple trees for each bootstrapped dataset\n",
    "        '''\n",
    "        datasets = self.get_all_bootstraps(df)\n",
    "        trees = []\n",
    "        for dataset in datasets:\n",
    "            tree = DecisionTree()\n",
    "            tree.fit(dataset.iloc[:,:-1], dataset.iloc[:, -1])\n",
    "            trees.append(tree)\n",
    "        return trees\n",
    "\n",
    "    def fit(self, X, y):\n",
    "        ''' \n",
    "        fits the forest with given training data\n",
    "        '''\n",
    "        df = pd.concat([X, y], axis = 1)\n",
    "        self.prediction_labels = list(y.unique())\n",
    "        self.forest = self.create_forest(df)\n",
    "\n",
    "    def bootstrap_dataset(self, df):\n",
    "        ''' \n",
    "        creates a bootstrapped dataset from given training data\n",
    "        '''\n",
    "        boot_indices = []\n",
    "        for i in range(len(df)):\n",
    "            boot_indices.append(random.randint(0, len(df) - 1))\n",
    "        boot_df = pd.DataFrame()\n",
    "        for index in boot_indices:\n",
    "            boot_df = pd.concat([boot_df, df.iloc[index]], axis = 1)  \n",
    "        boot_df = boot_df.transpose()\n",
    "        return boot_df\n",
    "\n",
    "    def predict_matrix(self, inputs):\n",
    "        ''' \n",
    "        creates a matrix of all the predictions by each tree in the forest\n",
    "        '''\n",
    "        predictions_df = pd.DataFrame()\n",
    "        for tree in self.forest:\n",
    "            preds_by_tree = tree.predict(inputs)\n",
    "            predictions_df = pd.concat([predictions_df, pd.Series(preds_by_tree)], axis = 1)\n",
    "        return predictions_df.transpose()\n",
    "\n",
    "    def predict(self, inputs):\n",
    "        ''' \n",
    "        predicts for a set of data\n",
    "        '''\n",
    "        matrix = self.predict_matrix(inputs)\n",
    "        final_preds = []\n",
    "        for tree in matrix.columns:\n",
    "            final_preds.append(self.max_dict(dict((matrix[tree].value_counts()))))\n",
    "        return final_preds\n",
    "\n",
    "    def max_dict(self, d):\n",
    "        ''' \n",
    "        gives key containing maximum value of a dictionary\n",
    "        '''\n",
    "        rev = dict(map(reversed, d.items()))\n",
    "        return rev[max(list(d.values()))]\n",
    "\n",
    "    def get_all_bootstraps(self, df):\n",
    "        ''' \n",
    "        gets self.n_estimators number of bootstrapped datasets for each tree to train on\n",
    "        '''\n",
    "        bootstraps = []\n",
    "        features = list(df.iloc[:,:-1].columns)\n",
    "        for i in range(self.n_estimators):\n",
    "            bootstraps.append({\n",
    "                'df': self.bootstrap_dataset(df),\n",
    "                'features': list(np.random.choice(features, size = int(np.ceil(np.sqrt(len(features)))), replace=False))+[df.columns[-1]]\n",
    "            })\n",
    "        bootstrapped_datasets = []\n",
    "        for bootstrap in bootstraps:\n",
    "            data_frame = bootstrap['df']\n",
    "            feats = bootstrap['features']\n",
    "            bootstrapped_datasets.append(data_frame[feats])\n",
    "        return bootstrapped_datasets"
   ]
  },
  {
   "cell_type": "code",
   "execution_count": 27,
   "id": "2e9dbde0",
   "metadata": {},
   "outputs": [
    {
     "name": "stdout",
     "output_type": "stream",
     "text": [
      "              precision    recall  f1-score   support\n",
      "\n",
      "           0       0.80      0.79      0.80       134\n",
      "           1       0.84      0.85      0.84       169\n",
      "\n",
      "    accuracy                           0.82       303\n",
      "   macro avg       0.82      0.82      0.82       303\n",
      "weighted avg       0.82      0.82      0.82       303\n",
      "\n"
     ]
    }
   ],
   "source": [
    "forest1 = RandomForest(n_estimators=100)\n",
    "X_train_series = pd.DataFrame(X_train, columns = df.columns[:-1])\n",
    "y_train_series = pd.Series(y_train)\n",
    "X_test_series = pd.DataFrame(X_test, columns = df.columns[:-1])\n",
    "y_test_series = pd.Series(y_test)\n",
    "forest1.fit(X_train_series, y_train_series)\n",
    "random_forest_preds = forest1.predict(X_test_series)\n",
    "print(classification_report(y_test, random_forest_preds))"
   ]
  },
  {
   "cell_type": "markdown",
   "id": "243b589c",
   "metadata": {},
   "source": [
    "# ***4. ML Model 3***\n",
    "### ***Model Chosen: Artificial Neural Network***\n",
    "_Accuracy Achieved: %_"
   ]
  },
  {
   "cell_type": "code",
   "execution_count": null,
   "id": "942a25e9",
   "metadata": {},
   "outputs": [],
   "source": []
  },
  {
   "cell_type": "markdown",
   "id": "ac9b483a",
   "metadata": {},
   "source": [
    "# ***5. ML Model 4 (Based on research literature)***\n",
    "### ***Model Chosen: XGBoost***\n",
    "_Accuracy Achieved: 82%_"
   ]
  },
  {
   "cell_type": "code",
   "execution_count": 28,
   "id": "7991bd1e",
   "metadata": {},
   "outputs": [],
   "source": [
    "class XGBoost:\n",
    "    \n",
    "    def __init__(self, num_trees, tree_height, ip, op, lr, gamma, lda):\n",
    "        '''\n",
    "         num_trees: number of trees that will be used to predict the outcome\n",
    "         tree_height: height of each tree built\n",
    "         ip: input to the model\n",
    "         op: output to the model\n",
    "         lr: learning rate of each tree\n",
    "         gamma: threshhold value for pruning of trees\n",
    "         lda: ragularisation parameter for the trees\n",
    "        '''\n",
    "        self.num_trees = num_trees\n",
    "        self.tree_height = tree_height\n",
    "        self.ip = ip\n",
    "        self.op = op\n",
    "        self.lr = lr\n",
    "        self.gamma = gamma\n",
    "        self.odds = 0.5\n",
    "        self.trees = []\n",
    "        self.prev_preds = np.ones(ip.shape[0])*0.5\n",
    "        self.lda = lda\n",
    "        self.build_trees()\n",
    "    \n",
    "    def build_trees(self):\n",
    "        '''\n",
    "        function to build 'num_trees' decision trees \n",
    "        '''\n",
    "        for i in range(self.num_trees):\n",
    "            self.trees.append(Tree(self.ip,self.op,self.prev_preds, self.tree_height, self.lda, self.gamma, self.lr))\n",
    "            self.prev_preds = self.trees[i].give_preds(self.prev_preds)\n",
    "\n",
    "    def sigmoid(self,ip):\n",
    "        '''\n",
    "        ip: value whose logistic sigmoid needs to be computed\n",
    "        '''\n",
    "        return math.exp(ip)/(math.exp(ip)+1)\n",
    "            \n",
    "    def predict(self,ip):\n",
    "        '''\n",
    "        function to predict the most likely label for the given input\n",
    "        '''\n",
    "        op = []\n",
    "        for x in ip:\n",
    "            odds = 0\n",
    "            for i in self.trees:\n",
    "                odds+=(self.lr*i.traverse(x))\n",
    "            if self.sigmoid(odds)>=0.5:\n",
    "                op.append(1)\n",
    "            else:\n",
    "                op.append(0)\n",
    "        return np.array(op)"
   ]
  },
  {
   "cell_type": "code",
   "execution_count": 29,
   "id": "81314f68",
   "metadata": {},
   "outputs": [],
   "source": [
    "class Tree:\n",
    "    \n",
    "    def __init__(self, ip, op, prev_pred, tree_height, lda, gamma, lr):\n",
    "        '''\n",
    "        ip: input data\n",
    "        op: output data\n",
    "        prev_pred: the predictions from the previous tree\n",
    "        tree_height: height of the current tree\n",
    "        lda: regularisation parameter for the current tree\n",
    "        gamma: threshhold value for pruning of trees \n",
    "        lr: learning rate of each tree\n",
    "        '''\n",
    "        self.ip = np.array(ip)\n",
    "        self.op = np.array(op)\n",
    "        self.prev_pred = np.array(prev_pred)\n",
    "        self.tree_height = tree_height\n",
    "        self.residual = self.op-self.prev_pred\n",
    "        self.lda = lda\n",
    "        self.gamma = gamma\n",
    "        self.lr = lr\n",
    "        self.head = self.make_tree(ip,self.residual,self.prev_pred,tree_height, 0, self.lda, 1)\n",
    "        self.head = self.prune_tree(self.head, self.gamma)\n",
    "        if self.head == None:\n",
    "            print(\"F\")\n",
    "            self.preds = self.prev_pred\n",
    "        else:\n",
    "            self.preds = self.give_preds(self.prev_pred)\n",
    "    \n",
    "    def make_tree(self, ip, residual, prev_pred, tree_height, depth, lda, tree_num):\n",
    "        '''\n",
    "        function to make a decision tree of height 'tree_height' from the given input taking into account the corresponding residuals and predictions of the previous decision tree\n",
    "        '''\n",
    "        if depth > tree_height:\n",
    "            return None\n",
    "        else:\n",
    "            tree_num +=1\n",
    "            head = Node(ip, residual, prev_pred, self.lda)\n",
    "            left = len(head.res_left)\n",
    "            head.left = self.make_tree(ip[:left], head.res_left, prev_pred, tree_height, depth+1, self.lda, tree_num)\n",
    "            tree_num+=1\n",
    "            head.right = self.make_tree(ip[left:], head.res_right, prev_pred, tree_height, depth+1, self.lda, tree_num)\n",
    "        return head\n",
    "    \n",
    "    def traverse(self, ip):\n",
    "        '''\n",
    "        function to traverse the decision tree according to the given input\n",
    "        '''\n",
    "        head_copy = self.head\n",
    "        condition = 0\n",
    "        while (head_copy.left != None) and (head_copy.right != None):\n",
    "            column = head_copy.column\n",
    "            if ip[column]<head_copy.test:\n",
    "                head_copy = head_copy.left\n",
    "            else:\n",
    "                head_copy = head_copy.right\n",
    "        return head_copy.out_value\n",
    "        \n",
    "    def sigmoid(self,ip):\n",
    "        '''\n",
    "        ip: value whose logistic sigmoid needs to be computed\n",
    "        '''\n",
    "        return math.exp(ip)/(math.exp(ip)+1)\n",
    "    \n",
    "    def give_preds(self, prev_preds):\n",
    "        '''\n",
    "        function to return the prediction of the current decision tree\n",
    "        '''\n",
    "        odds = []\n",
    "        for i in range(len(prev_preds)):\n",
    "            odds.append(math.log((prev_preds[i]/(1-prev_preds[i]))))\n",
    "            odds[i]+=self.lr*self.traverse(self.ip[i])\n",
    "            odds[i] = self.sigmoid(odds[i])\n",
    "        return np.array(odds)\n",
    "    \n",
    "    def prune_tree(self,head,gamma):\n",
    "        '''\n",
    "        function to prune the current decision tree according to the threshhold value gamma\n",
    "        '''\n",
    "        if head == None:\n",
    "            return None\n",
    "        else:\n",
    "            head.left = self.prune_tree(head.left,gamma)\n",
    "            head.right = self.prune_tree(head.right,gamma)\n",
    "            if head.out_value<gamma:\n",
    "                return None\n",
    "            else:\n",
    "                return head"
   ]
  },
  {
   "cell_type": "code",
   "execution_count": 30,
   "id": "eb853679",
   "metadata": {},
   "outputs": [],
   "source": [
    "class Node:\n",
    "    \n",
    "    def __init__(self, ip, residual, prev_pred, lda):\n",
    "        '''\n",
    "        ip: input data\n",
    "        residual: the residuals corresponding to the inputs\n",
    "        prev_pred: the predictions from the previous tree\n",
    "        lda: regularisation parameter for the current tree\n",
    "        '''\n",
    "        self.ip = ip\n",
    "        self.residual = residual\n",
    "        self.res_set = set(self.residual)\n",
    "        self.prev_pred = prev_pred\n",
    "        self.lda = lda\n",
    "        self.res_left = []\n",
    "        self.res_right = []\n",
    "        self.column = 0\n",
    "        self.test = 0\n",
    "        self.gain = 0\n",
    "        self.cover = []\n",
    "        for p in prev_pred:\n",
    "            self.cover.append(p*(1-p))\n",
    "        self.cover = np.array(self.cover)\n",
    "        self.out_value = self.find_out_value()\n",
    "        self.similarity = self.find_similarity(residual,self.cover)\n",
    "        self.find_best_division()\n",
    "        \n",
    "    def find_out_value(self):\n",
    "        '''\n",
    "        function to find out the out value of the current node\n",
    "        '''\n",
    "        return (np.array(self.residual).sum()/(self.cover.sum()+self.lda))\n",
    "    \n",
    "    def  find_similarity(self,residual,cover):\n",
    "        '''\n",
    "        function to find out the similarity value of the current node\n",
    "        '''\n",
    "        return ((np.array(residual).sum()**2)/(cover.sum()+self.lda))\n",
    "    \n",
    "    def find_best_division(self):\n",
    "        '''\n",
    "        function to find out the best split for the current node\n",
    "        '''\n",
    "        cur_gain = 0\n",
    "        for column in range(self.ip.shape[1]):\n",
    "            values = []\n",
    "            for j in range(self.ip.shape[0]):\n",
    "                values.append(self.ip[j][column])\n",
    "            unique_values = set(values)\n",
    "            unique_values = list(unique_values)\n",
    "            uniquq_values = unique_values.sort()\n",
    "            right = len(unique_values)-1\n",
    "            while right>=1:\n",
    "                target = (unique_values[right]+unique_values[right-1])/2\n",
    "                llist = []\n",
    "                rlist = []\n",
    "                for i in range(len(values)):\n",
    "                    if values[i] < target:\n",
    "                        llist.append(self.residual[i])\n",
    "                        \n",
    "                for i in range(len(values)):\n",
    "                    if values[i] >= target:\n",
    "                        rlist.append(self.residual[i])\n",
    "                gain = self.find_similarity(llist,self.cover[:right])+self.find_similarity(rlist,self.cover[right:])-self.similarity\n",
    "                if (column == 0) and (right == len(unique_values)-1):\n",
    "                    cur_gain = gain\n",
    "                    self.test = target\n",
    "                    self.res_left = llist\n",
    "                    self.res_right = rlist\n",
    "                    self.gain = gain\n",
    "                else:             \n",
    "                    if gain>cur_gain:\n",
    "                        cur_gain = gain\n",
    "                        self.test = target\n",
    "                        self.column = column\n",
    "                        self.res_left = llist\n",
    "                        self.res_right = rlist\n",
    "                        self.gain = gain\n",
    "                right-=1"
   ]
  },
  {
   "cell_type": "code",
   "execution_count": 31,
   "id": "8b191f64",
   "metadata": {
    "scrolled": false
   },
   "outputs": [],
   "source": [
    "xg_boost = XGBoost(250, 6, X_train, y_train, 0.1, -0.5, 2)"
   ]
  },
  {
   "cell_type": "code",
   "execution_count": 33,
   "id": "e471f90d",
   "metadata": {
    "scrolled": true
   },
   "outputs": [
    {
     "name": "stdout",
     "output_type": "stream",
     "text": [
      "Train\n",
      "              precision    recall  f1-score   support\n",
      "\n",
      "           0       0.78      0.75      0.76       276\n",
      "           1       0.80      0.83      0.81       338\n",
      "\n",
      "    accuracy                           0.79       614\n",
      "   macro avg       0.79      0.79      0.79       614\n",
      "weighted avg       0.79      0.79      0.79       614\n",
      "\n",
      "Test\n",
      "              precision    recall  f1-score   support\n",
      "\n",
      "           0       0.78      0.81      0.80       134\n",
      "           1       0.85      0.82      0.83       169\n",
      "\n",
      "    accuracy                           0.82       303\n",
      "   macro avg       0.81      0.82      0.81       303\n",
      "weighted avg       0.82      0.82      0.82       303\n",
      "\n"
     ]
    }
   ],
   "source": [
    "test = xg_boost.predict(X_train)\n",
    "print(\"Train\")\n",
    "print(classification_report(y_train, test))\n",
    "test = xg_boost.predict(X_test)\n",
    "print(\"Test\")\n",
    "print(classification_report(y_test, test))"
   ]
  },
  {
   "cell_type": "markdown",
   "id": "1faf51c3",
   "metadata": {},
   "source": [
    "# ***6. Comparison of insights drawn from the models***"
   ]
  },
  {
   "cell_type": "markdown",
   "id": "1c054b2c",
   "metadata": {},
   "source": [
    "***1. K-NN***  \n",
    "&emsp;&nbsp;**Our accuracy:** _81%_  \n",
    "&emsp;&nbsp;**Sci-kit learn accuracy:** _82%_  \n",
    "&emsp;&nbsp;**k-value (no. of neighbours):** _3_\n",
    "\n",
    "&emsp;&nbsp;**Performance of the classifier is similar for both Euclidean and Manhattan distances. This implies that the dataset is not strongly influenced by the choice of distance metric.**"
   ]
  },
  {
   "cell_type": "code",
   "execution_count": 46,
   "metadata": {},
   "outputs": [
    {
     "name": "stdout",
     "output_type": "stream",
     "text": [
      "Euclidean\n",
      "              precision    recall  f1-score   support\n",
      "\n",
      "           0       0.79      0.81      0.80       134\n",
      "           1       0.84      0.83      0.84       169\n",
      "\n",
      "    accuracy                           0.82       303\n",
      "   macro avg       0.82      0.82      0.82       303\n",
      "weighted avg       0.82      0.82      0.82       303\n",
      "\n"
     ]
    }
   ],
   "source": [
    "from sklearn.neighbors import KNeighborsClassifier\n",
    "\n",
    "knn_classifier = KNeighborsClassifier(n_neighbors=3, metric='euclidean')\n",
    "knn_classifier.fit(X_train_scaled, y_train)\n",
    "y_pred = knn_classifier.predict(X_test_scaled)\n",
    "print(\"Euclidean\")\n",
    "print(classification_report(y_test, y_pred))"
   ]
  },
  {
   "cell_type": "code",
   "execution_count": 47,
   "metadata": {},
   "outputs": [
    {
     "name": "stdout",
     "output_type": "stream",
     "text": [
      "Manhattan\n",
      "              precision    recall  f1-score   support\n",
      "\n",
      "           0       0.79      0.82      0.80       134\n",
      "           1       0.85      0.82      0.84       169\n",
      "\n",
      "    accuracy                           0.82       303\n",
      "   macro avg       0.82      0.82      0.82       303\n",
      "weighted avg       0.82      0.82      0.82       303\n",
      "\n"
     ]
    }
   ],
   "source": [
    "from sklearn.neighbors import KNeighborsClassifier\n",
    "\n",
    "knn_classifier = KNeighborsClassifier(n_neighbors=3, metric='manhattan')\n",
    "knn_classifier.fit(X_train_scaled, y_train)\n",
    "y_pred = knn_classifier.predict(X_test_scaled)\n",
    "print(\"Manhattan\")\n",
    "print(classification_report(y_test, y_pred))"
   ]
  },
  {
   "cell_type": "markdown",
   "id": "2de1e4a2",
   "metadata": {},
   "source": [
    "***2. Random Forest***  \n",
    "&emsp;&nbsp;**Our accuracy:** _83%_  \n",
    "&emsp;&nbsp;**Sci-kit learn accuracy:** _83%_  \n",
    "&emsp;&nbsp;**Used 100 estimators.**  \n",
    "&emsp;&nbsp;**Gini impurity was used as a measure to find the purity of each node in the tree.**  \n",
    "&emsp;&nbsp;**Tree depth was set to 3.**"
   ]
  },
  {
   "cell_type": "code",
   "execution_count": null,
   "id": "fa0b628c",
   "metadata": {},
   "outputs": [
    {
     "name": "stdout",
     "output_type": "stream",
     "text": [
      "              precision    recall  f1-score   support\n",
      "\n",
      "           0       0.82      0.83      0.82       134\n",
      "           1       0.86      0.85      0.86       169\n",
      "\n",
      "    accuracy                           0.84       303\n",
      "   macro avg       0.84      0.84      0.84       303\n",
      "weighted avg       0.84      0.84      0.84       303\n",
      "\n"
     ]
    }
   ],
   "source": [
    "from sklearn.ensemble import RandomForestClassifier\n",
    "clf = RandomForestClassifier(max_depth=6)\n",
    "clf.fit(X_train, y_train)\n",
    "preds = clf.predict(X_test)\n",
    "print(classification_report(y_test, preds))"
   ]
  },
  {
   "cell_type": "markdown",
   "id": "453daf1f",
   "metadata": {},
   "source": [
    "***4. XGBoost***  \n",
    "&emsp;&nbsp;**Our accuracy:** _82%_  \n",
    "&emsp;&nbsp;**Sci-kit learn accuracy:** _81%_  \n",
    "&emsp;&nbsp;**The model consists of _250_ decision trees as predictors. Each tree is of height _6_, learning rate _0.1_, regularisation parameter lambda _2_.**  \n",
    "&emsp;&nbsp;**After creation of a decision tree, post pruning is carried out based on the out values of each node.**  \n",
    "&emsp;&nbsp;**If a node has out value less than the specified threshold gamma the subtree rooted at that node is removed.**  \n",
    "&emsp;&nbsp;**Since the training and test accuracy is similar for the model it implies that there was no overfitting.**"
   ]
  },
  {
   "cell_type": "code",
   "execution_count": null,
   "id": "25dbafcb",
   "metadata": {},
   "outputs": [
    {
     "name": "stdout",
     "output_type": "stream",
     "text": [
      "              precision    recall  f1-score   support\n",
      "\n",
      "           0       0.77      0.83      0.80       134\n",
      "           1       0.85      0.80      0.83       169\n",
      "\n",
      "    accuracy                           0.81       303\n",
      "   macro avg       0.81      0.81      0.81       303\n",
      "weighted avg       0.82      0.81      0.81       303\n",
      "\n"
     ]
    }
   ],
   "source": [
    "import xgboost as xgb\n",
    "clf_xgb = xgb.XGBClassifier(max_depth=6)\n",
    "clf_xgb.fit(X_train, y_train)\n",
    "preds_xgb = clf_xgb.predict(X_test)\n",
    "print(classification_report(y_test, preds_xgb))"
   ]
  },
  {
   "cell_type": "markdown",
   "id": "9f30cc4d",
   "metadata": {},
   "source": [
    "### Conclusion ###\n",
    "- ***We observe that all of the models have a lower precision for class '0'. This is due to the uneven distribution of 0s and 1s in the dataset.***    \n",
    "- ***Since we were able to get satisfactory accuracies, it indicates that the imputation of missing values was a good estimate of what might have been the actual value.***\n",
    "- ***We used two ensemble strategies: Bagging(Random Forest) and Boosting(XGBoost) and observed that both the strategies proved to be effective and had similar results as seen by the predictions.***"
   ]
  },
  {
   "cell_type": "markdown",
   "id": "71bf7c96",
   "metadata": {},
   "source": [
    "# **_7. References_**\n",
    "\n",
    "1.   [Reference for handling missing values](https://www.analyticsvidhya.com/blog/2021/10/handling-missing-value/)\n",
    "2.   [Reference for making markdown cells](https://www.markdownguide.org/basic-syntax/)\n",
    "3.   [Reference for KNN](https://www.geeksforgeeks.org/k-nearest-neighbours/)\n",
    "4.   [Reference for XGBoost](https://www.youtube.com/watch?v=8b1JEDvenQU&ab_channel=StatQuestwithJoshStarmer)\n"
   ]
  }
 ],
 "metadata": {
  "kernelspec": {
   "display_name": "Python 3 (ipykernel)",
   "language": "python",
   "name": "python3"
  },
  "language_info": {
   "codemirror_mode": {
    "name": "ipython",
    "version": 3
   },
   "file_extension": ".py",
   "mimetype": "text/x-python",
   "name": "python",
   "nbconvert_exporter": "python",
   "pygments_lexer": "ipython3",
   "version": "3.11.6"
  }
 },
 "nbformat": 4,
 "nbformat_minor": 5
}
